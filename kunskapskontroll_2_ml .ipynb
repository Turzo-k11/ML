{
 "cells": [
  {
   "cell_type": "code",
   "execution_count": 78,
   "id": "769b31e4",
   "metadata": {},
   "outputs": [],
   "source": [
    "import numpy as np\n",
    "\n",
    "from sklearn.datasets import fetch_openml\n",
    "from sklearn.model_selection import train_test_split, cross_val_score\n",
    "\n",
    "\n",
    "from sklearn.linear_model import LogisticRegression\n",
    "from sklearn.ensemble import RandomForestClassifier\n",
    "\n",
    "from sklearn.metrics import accuracy_score, classification_report\n",
    "from sklearn.metrics import mean_squared_error\n",
    "\n",
    "from sklearn.model_selection import cross_validate\n",
    "\n",
    "import matplotlib.pyplot as plt\n",
    "import seaborn as sns\n",
    "\n",
    "\n",
    "from sklearn.metrics import confusion_matrix, ConfusionMatrixDisplay\n",
    "\n"
   ]
  },
  {
   "cell_type": "code",
   "execution_count": 83,
   "id": "1a4aaa68",
   "metadata": {},
   "outputs": [],
   "source": [
    "import numpy as np\n",
    "import pandas as pd\n",
    "import matplotlib.pyplot as plt\n",
    "import matplotlib as mpl\n",
    "\n",
    "from sklearn.preprocessing import StandardScaler\n",
    "from sklearn.metrics import accuracy_score\n",
    "\n",
    "from sklearn.svm import LinearSVC\n",
    "from sklearn.svm import SVC\n",
    "\n",
    "from sklearn.pipeline import Pipeline\n",
    "from sklearn.model_selection import GridSearchCV\n",
    "from sklearn.metrics import confusion_matrix, ConfusionMatrixDisplay"
   ]
  },
  {
   "cell_type": "code",
   "execution_count": 84,
   "id": "8ed12f94",
   "metadata": {},
   "outputs": [
    {
     "name": "stdout",
     "output_type": "stream",
     "text": [
      "**Author**: Yann LeCun, Corinna Cortes, Christopher J.C. Burges  \n",
      "**Source**: [MNIST Website](http://yann.lecun.com/exdb/mnist/) - Date unknown  \n",
      "**Please cite**:  \n",
      "\n",
      "The MNIST database of handwritten digits with 784 features, raw data available at: http://yann.lecun.com/exdb/mnist/. It can be split in a training set of the first 60,000 examples, and a test set of 10,000 examples  \n",
      "\n",
      "It is a subset of a larger set available from NIST. The digits have been size-normalized and centered in a fixed-size image. It is a good database for people who want to try learning techniques and pattern recognition methods on real-world data while spending minimal efforts on preprocessing and formatting. The original black and white (bilevel) images from NIST were size normalized to fit in a 20x20 pixel box while preserving their aspect ratio. The resulting images contain grey levels as a result of the anti-aliasing technique used by the normalization algorithm. the images were centered in a 28x28 image by computing the center of mass of the pixels, and translating the image so as to position this point at the center of the 28x28 field.  \n",
      "\n",
      "With some classification methods (particularly template-based methods, such as SVM and K-nearest neighbors), the error rate improves when the digits are centered by bounding box rather than center of mass. If you do this kind of pre-processing, you should report it in your publications. The MNIST database was constructed from NIST's NIST originally designated SD-3 as their training set and SD-1 as their test set. However, SD-3 is much cleaner and easier to recognize than SD-1. The reason for this can be found on the fact that SD-3 was collected among Census Bureau employees, while SD-1 was collected among high-school students. Drawing sensible conclusions from learning experiments requires that the result be independent of the choice of training set and test among the complete set of samples. Therefore it was necessary to build a new database by mixing NIST's datasets.  \n",
      "\n",
      "The MNIST training set is composed of 30,000 patterns from SD-3 and 30,000 patterns from SD-1. Our test set was composed of 5,000 patterns from SD-3 and 5,000 patterns from SD-1. The 60,000 pattern training set contained examples from approximately 250 writers. We made sure that the sets of writers of the training set and test set were disjoint. SD-1 contains 58,527 digit images written by 500 different writers. In contrast to SD-3, where blocks of data from each writer appeared in sequence, the data in SD-1 is scrambled. Writer identities for SD-1 is available and we used this information to unscramble the writers. We then split SD-1 in two: characters written by the first 250 writers went into our new training set. The remaining 250 writers were placed in our test set. Thus we had two sets with nearly 30,000 examples each. The new training set was completed with enough examples from SD-3, starting at pattern # 0, to make a full set of 60,000 training patterns. Similarly, the new test set was completed with SD-3 examples starting at pattern # 35,000 to make a full set with 60,000 test patterns. Only a subset of 10,000 test images (5,000 from SD-1 and 5,000 from SD-3) is available on this site. The full 60,000 sample training set is available.\n",
      "\n",
      "Downloaded from openml.org.\n"
     ]
    }
   ],
   "source": [
    "mnist = fetch_openml(\"mnist_784\", version = 1, cache = True, as_frame = False)\n",
    "print(mnist.DESCR)"
   ]
  },
  {
   "cell_type": "code",
   "execution_count": 85,
   "id": "5b8eedc4",
   "metadata": {},
   "outputs": [],
   "source": [
    "#Förbreda data samt träning och test split\n",
    "X = mnist[\"data\"]\n",
    "y = mnist[\"target\"].astype(np.uint8)\n",
    "X_train, X_test, y_train, y_test = train_test_split(X, y, test_size=0.2, random_state=42)"
   ]
  },
  {
   "cell_type": "code",
   "execution_count": 53,
   "id": "54b7fe6d",
   "metadata": {},
   "outputs": [
    {
     "name": "stdout",
     "output_type": "stream",
     "text": [
      "X_train: (56000, 784)\n",
      "Y_train: (56000,)\n",
      "X_test:  (14000, 784)\n",
      "Y_test:  (14000,)\n"
     ]
    }
   ],
   "source": [
    "print('X_train: ' + str(X_train.shape))\n",
    "print('Y_train: ' + str(y_train.shape))\n",
    "print('X_test:  '  + str(X_test.shape))\n",
    "print('Y_test:  '  + str(y_test.shape))"
   ]
  },
  {
   "cell_type": "code",
   "execution_count": 56,
   "id": "8f863ac6",
   "metadata": {},
   "outputs": [
    {
     "data": {
      "image/png": "[encoded data removed]",
      "text/plain": [
       "<Figure size 640x480 with 9 Axes>"
      ]
     },
     "metadata": {},
     "output_type": "display_data"
    }
   ],
   "source": [
    "X_train_2d = X_train.reshape(-1, 28, 28)\n",
    "\n",
    "for i in range(9):  \n",
    "    plt.subplot(330 + 1 + i)\n",
    "    plt.imshow(X_train_2d[i], cmap=plt.get_cmap('gray'))\n",
    "    plt.axis('off')  \n",
    "plt.show()"
   ]
  },
  {
   "cell_type": "markdown",
   "id": "01c4237c",
   "metadata": {},
   "source": [
    "# LogisticRegression"
   ]
  },
  {
   "cell_type": "code",
   "execution_count": 12,
   "id": "554390bd",
   "metadata": {},
   "outputs": [
    {
     "name": "stderr",
     "output_type": "stream",
     "text": [
      "C:\\Users\\Nices\\anaconda3\\Lib\\site-packages\\sklearn\\linear_model\\_logistic.py:460: ConvergenceWarning: lbfgs failed to converge (status=1):\n",
      "STOP: TOTAL NO. of ITERATIONS REACHED LIMIT.\n",
      "\n",
      "Increase the number of iterations (max_iter) or scale the data as shown in:\n",
      "    https://scikit-learn.org/stable/modules/preprocessing.html\n",
      "Please also refer to the documentation for alternative solver options:\n",
      "    https://scikit-learn.org/stable/modules/linear_model.html#logistic-regression\n",
      "  n_iter_i = _check_optimize_result(\n"
     ]
    },
    {
     "data": {
      "text/html": [
       "<style>#sk-container-id-1 {color: black;}#sk-container-id-1 pre{padding: 0;}#sk-container-id-1 div.sk-toggleable {background-color: white;}#sk-container-id-1 label.sk-toggleable__label {cursor: pointer;display: block;width: 100%;margin-bottom: 0;padding: 0.3em;box-sizing: border-box;text-align: center;}#sk-container-id-1 label.sk-toggleable__label-arrow:before {content: \"▸\";float: left;margin-right: 0.25em;color: #696969;}#sk-container-id-1 label.sk-toggleable__label-arrow:hover:before {color: black;}#sk-container-id-1 div.sk-estimator:hover label.sk-toggleable__label-arrow:before {color: black;}#sk-container-id-1 div.sk-toggleable__content {max-height: 0;max-width: 0;overflow: hidden;text-align: left;background-color: #f0f8ff;}#sk-container-id-1 div.sk-toggleable__content pre {margin: 0.2em;color: black;border-radius: 0.25em;background-color: #f0f8ff;}#sk-container-id-1 input.sk-toggleable__control:checked~div.sk-toggleable__content {max-height: 200px;max-width: 100%;overflow: auto;}#sk-container-id-1 input.sk-toggleable__control:checked~label.sk-toggleable__label-arrow:before {content: \"▾\";}#sk-container-id-1 div.sk-estimator input.sk-toggleable__control:checked~label.sk-toggleable__label {background-color: #d4ebff;}#sk-container-id-1 div.sk-label input.sk-toggleable__control:checked~label.sk-toggleable__label {background-color: #d4ebff;}#sk-container-id-1 input.sk-hidden--visually {border: 0;clip: rect(1px 1px 1px 1px);clip: rect(1px, 1px, 1px, 1px);height: 1px;margin: -1px;overflow: hidden;padding: 0;position: absolute;width: 1px;}#sk-container-id-1 div.sk-estimator {font-family: monospace;background-color: #f0f8ff;border: 1px dotted black;border-radius: 0.25em;box-sizing: border-box;margin-bottom: 0.5em;}#sk-container-id-1 div.sk-estimator:hover {background-color: #d4ebff;}#sk-container-id-1 div.sk-parallel-item::after {content: \"\";width: 100%;border-bottom: 1px solid gray;flex-grow: 1;}#sk-container-id-1 div.sk-label:hover label.sk-toggleable__label {background-color: #d4ebff;}#sk-container-id-1 div.sk-serial::before {content: \"\";position: absolute;border-left: 1px solid gray;box-sizing: border-box;top: 0;bottom: 0;left: 50%;z-index: 0;}#sk-container-id-1 div.sk-serial {display: flex;flex-direction: column;align-items: center;background-color: white;padding-right: 0.2em;padding-left: 0.2em;position: relative;}#sk-container-id-1 div.sk-item {position: relative;z-index: 1;}#sk-container-id-1 div.sk-parallel {display: flex;align-items: stretch;justify-content: center;background-color: white;position: relative;}#sk-container-id-1 div.sk-item::before, #sk-container-id-1 div.sk-parallel-item::before {content: \"\";position: absolute;border-left: 1px solid gray;box-sizing: border-box;top: 0;bottom: 0;left: 50%;z-index: -1;}#sk-container-id-1 div.sk-parallel-item {display: flex;flex-direction: column;z-index: 1;position: relative;background-color: white;}#sk-container-id-1 div.sk-parallel-item:first-child::after {align-self: flex-end;width: 50%;}#sk-container-id-1 div.sk-parallel-item:last-child::after {align-self: flex-start;width: 50%;}#sk-container-id-1 div.sk-parallel-item:only-child::after {width: 0;}#sk-container-id-1 div.sk-dashed-wrapped {border: 1px dashed gray;margin: 0 0.4em 0.5em 0.4em;box-sizing: border-box;padding-bottom: 0.4em;background-color: white;}#sk-container-id-1 div.sk-label label {font-family: monospace;font-weight: bold;display: inline-block;line-height: 1.2em;}#sk-container-id-1 div.sk-label-container {text-align: center;}#sk-container-id-1 div.sk-container {/* jupyter's `normalize.less` sets `[hidden] { display: none; }` but bootstrap.min.css set `[hidden] { display: none !important; }` so we also need the `!important` here to be able to override the default hidden behavior on the sphinx rendered scikit-learn.org. See: https://github.com/scikit-learn/scikit-learn/issues/21755 */display: inline-block !important;position: relative;}#sk-container-id-1 div.sk-text-repr-fallback {display: none;}</style><div id=\"sk-container-id-1\" class=\"sk-top-container\"><div class=\"sk-text-repr-fallback\"><pre>LogisticRegression(max_iter=1000)</pre><b>In a Jupyter environment, please rerun this cell to show the HTML representation or trust the notebook. <br />On GitHub, the HTML representation is unable to render, please try loading this page with nbviewer.org.</b></div><div class=\"sk-container\" hidden><div class=\"sk-item\"><div class=\"sk-estimator sk-toggleable\"><input class=\"sk-toggleable__control sk-hidden--visually\" id=\"sk-estimator-id-1\" type=\"checkbox\" checked><label for=\"sk-estimator-id-1\" class=\"sk-toggleable__label sk-toggleable__label-arrow\">LogisticRegression</label><div class=\"sk-toggleable__content\"><pre>LogisticRegression(max_iter=1000)</pre></div></div></div></div></div>"
      ],
      "text/plain": [
       "LogisticRegression(max_iter=1000)"
      ]
     },
     "execution_count": 12,
     "metadata": {},
     "output_type": "execute_result"
    }
   ],
   "source": [
    "log_reg = LogisticRegression(max_iter=1000)\n",
    "log_reg.fit(X_train, y_train)"
   ]
  },
  {
   "cell_type": "code",
   "execution_count": 13,
   "id": "287e6213",
   "metadata": {},
   "outputs": [],
   "source": [
    "#Prediktion \n",
    "predict_logreg = log_reg.predict(X_test)"
   ]
  },
  {
   "cell_type": "code",
   "execution_count": 14,
   "id": "1b47d94a-2e11-48a7-b653-2355c70ee0d9",
   "metadata": {},
   "outputs": [
    {
     "name": "stdout",
     "output_type": "stream",
     "text": [
      "logistisk regression: 0.9161428571428571\n",
      "Classification report for Logistic Regression:\n",
      "              precision    recall  f1-score   support\n",
      "\n",
      "           0       0.96      0.96      0.96      1343\n",
      "           1       0.95      0.97      0.96      1600\n",
      "           2       0.91      0.89      0.90      1380\n",
      "           3       0.89      0.90      0.89      1433\n",
      "           4       0.92      0.92      0.92      1295\n",
      "           5       0.89      0.86      0.88      1273\n",
      "           6       0.94      0.95      0.94      1396\n",
      "           7       0.93      0.94      0.93      1503\n",
      "           8       0.89      0.87      0.88      1357\n",
      "           9       0.89      0.90      0.90      1420\n",
      "\n",
      "    accuracy                           0.92     14000\n",
      "   macro avg       0.92      0.91      0.91     14000\n",
      "weighted avg       0.92      0.92      0.92     14000\n",
      "\n"
     ]
    }
   ],
   "source": [
    "#Beräkning av noggrannhet\n",
    "accuracy = accuracy_score(y_test, predict_logreg)\n",
    "print(\"logistisk regression:\", accuracy)\n",
    "##Olika precision \n",
    "print(\"Classification report for Logistic Regression:\")\n",
    "print(classification_report(y_test, predict_logreg))"
   ]
  },
  {
   "cell_type": "code",
   "execution_count": 18,
   "id": "f7aad9d4",
   "metadata": {},
   "outputs": [
    {
     "name": "stdout",
     "output_type": "stream",
     "text": [
      "RMSE for Logistic Regression: 1.1887568536680901\n"
     ]
    }
   ],
   "source": [
    "rmse_log_reg = np.sqrt(mean_squared_error(y_test, predict_logreg))\n",
    "print(\"RMSE for Logistic Regression:\", rmse_log_reg)"
   ]
  },
  {
   "cell_type": "markdown",
   "id": "00aecdb9",
   "metadata": {},
   "source": [
    "# Random forest"
   ]
  },
  {
   "cell_type": "code",
   "execution_count": 25,
   "id": "b426971b-7c78-4ad7-8742-b73c1473842a",
   "metadata": {
    "scrolled": true
   },
   "outputs": [
    {
     "data": {
      "text/html": [
       "<style>#sk-container-id-2 {color: black;}#sk-container-id-2 pre{padding: 0;}#sk-container-id-2 div.sk-toggleable {background-color: white;}#sk-container-id-2 label.sk-toggleable__label {cursor: pointer;display: block;width: 100%;margin-bottom: 0;padding: 0.3em;box-sizing: border-box;text-align: center;}#sk-container-id-2 label.sk-toggleable__label-arrow:before {content: \"▸\";float: left;margin-right: 0.25em;color: #696969;}#sk-container-id-2 label.sk-toggleable__label-arrow:hover:before {color: black;}#sk-container-id-2 div.sk-estimator:hover label.sk-toggleable__label-arrow:before {color: black;}#sk-container-id-2 div.sk-toggleable__content {max-height: 0;max-width: 0;overflow: hidden;text-align: left;background-color: #f0f8ff;}#sk-container-id-2 div.sk-toggleable__content pre {margin: 0.2em;color: black;border-radius: 0.25em;background-color: #f0f8ff;}#sk-container-id-2 input.sk-toggleable__control:checked~div.sk-toggleable__content {max-height: 200px;max-width: 100%;overflow: auto;}#sk-container-id-2 input.sk-toggleable__control:checked~label.sk-toggleable__label-arrow:before {content: \"▾\";}#sk-container-id-2 div.sk-estimator input.sk-toggleable__control:checked~label.sk-toggleable__label {background-color: #d4ebff;}#sk-container-id-2 div.sk-label input.sk-toggleable__control:checked~label.sk-toggleable__label {background-color: #d4ebff;}#sk-container-id-2 input.sk-hidden--visually {border: 0;clip: rect(1px 1px 1px 1px);clip: rect(1px, 1px, 1px, 1px);height: 1px;margin: -1px;overflow: hidden;padding: 0;position: absolute;width: 1px;}#sk-container-id-2 div.sk-estimator {font-family: monospace;background-color: #f0f8ff;border: 1px dotted black;border-radius: 0.25em;box-sizing: border-box;margin-bottom: 0.5em;}#sk-container-id-2 div.sk-estimator:hover {background-color: #d4ebff;}#sk-container-id-2 div.sk-parallel-item::after {content: \"\";width: 100%;border-bottom: 1px solid gray;flex-grow: 1;}#sk-container-id-2 div.sk-label:hover label.sk-toggleable__label {background-color: #d4ebff;}#sk-container-id-2 div.sk-serial::before {content: \"\";position: absolute;border-left: 1px solid gray;box-sizing: border-box;top: 0;bottom: 0;left: 50%;z-index: 0;}#sk-container-id-2 div.sk-serial {display: flex;flex-direction: column;align-items: center;background-color: white;padding-right: 0.2em;padding-left: 0.2em;position: relative;}#sk-container-id-2 div.sk-item {position: relative;z-index: 1;}#sk-container-id-2 div.sk-parallel {display: flex;align-items: stretch;justify-content: center;background-color: white;position: relative;}#sk-container-id-2 div.sk-item::before, #sk-container-id-2 div.sk-parallel-item::before {content: \"\";position: absolute;border-left: 1px solid gray;box-sizing: border-box;top: 0;bottom: 0;left: 50%;z-index: -1;}#sk-container-id-2 div.sk-parallel-item {display: flex;flex-direction: column;z-index: 1;position: relative;background-color: white;}#sk-container-id-2 div.sk-parallel-item:first-child::after {align-self: flex-end;width: 50%;}#sk-container-id-2 div.sk-parallel-item:last-child::after {align-self: flex-start;width: 50%;}#sk-container-id-2 div.sk-parallel-item:only-child::after {width: 0;}#sk-container-id-2 div.sk-dashed-wrapped {border: 1px dashed gray;margin: 0 0.4em 0.5em 0.4em;box-sizing: border-box;padding-bottom: 0.4em;background-color: white;}#sk-container-id-2 div.sk-label label {font-family: monospace;font-weight: bold;display: inline-block;line-height: 1.2em;}#sk-container-id-2 div.sk-label-container {text-align: center;}#sk-container-id-2 div.sk-container {/* jupyter's `normalize.less` sets `[hidden] { display: none; }` but bootstrap.min.css set `[hidden] { display: none !important; }` so we also need the `!important` here to be able to override the default hidden behavior on the sphinx rendered scikit-learn.org. See: https://github.com/scikit-learn/scikit-learn/issues/21755 */display: inline-block !important;position: relative;}#sk-container-id-2 div.sk-text-repr-fallback {display: none;}</style><div id=\"sk-container-id-2\" class=\"sk-top-container\"><div class=\"sk-text-repr-fallback\"><pre>RandomForestClassifier(random_state=42)</pre><b>In a Jupyter environment, please rerun this cell to show the HTML representation or trust the notebook. <br />On GitHub, the HTML representation is unable to render, please try loading this page with nbviewer.org.</b></div><div class=\"sk-container\" hidden><div class=\"sk-item\"><div class=\"sk-estimator sk-toggleable\"><input class=\"sk-toggleable__control sk-hidden--visually\" id=\"sk-estimator-id-2\" type=\"checkbox\" checked><label for=\"sk-estimator-id-2\" class=\"sk-toggleable__label sk-toggleable__label-arrow\">RandomForestClassifier</label><div class=\"sk-toggleable__content\"><pre>RandomForestClassifier(random_state=42)</pre></div></div></div></div></div>"
      ],
      "text/plain": [
       "RandomForestClassifier(random_state=42)"
      ]
     },
     "execution_count": 25,
     "metadata": {},
     "output_type": "execute_result"
    }
   ],
   "source": [
    "rf = RandomForestClassifier(n_estimators=100, random_state=42)\n",
    "rf.fit(X_train, y_train)"
   ]
  },
  {
   "cell_type": "code",
   "execution_count": 26,
   "id": "b713c098-3a30-428f-9fdc-7117e810a226",
   "metadata": {},
   "outputs": [],
   "source": [
    "###Prediktion\n",
    "pred_rf = rf.predict(X_test)"
   ]
  },
  {
   "cell_type": "code",
   "execution_count": 28,
   "id": "d8d54329",
   "metadata": {},
   "outputs": [
    {
     "name": "stdout",
     "output_type": "stream",
     "text": [
      "Random Forest: 0.9672857142857143\n"
     ]
    }
   ],
   "source": [
    "###Resultat\n",
    "accuracy_rf = accuracy_score(y_test, pred_rf)\n",
    "print(\"Random Forest:\", accuracy_rf)"
   ]
  },
  {
   "cell_type": "code",
   "execution_count": 29,
   "id": "6e7c0ab4",
   "metadata": {},
   "outputs": [
    {
     "name": "stdout",
     "output_type": "stream",
     "text": [
      "Cross-Validation Scores for Random Forest:\n",
      "[0.96607143 0.96785714 0.96883929 0.96705357 0.96553571]\n"
     ]
    }
   ],
   "source": [
    "rf_classifier = RandomForestClassifier(n_estimators=100, random_state=42)\n",
    "rf_cv_scores = cross_val_score(rf_classifier, X_train, y_train, cv=5, scoring='accuracy')\n",
    "print(\"Cross-Validation Scores for Random Forest:\")\n",
    "print(rf_cv_scores)"
   ]
  },
  {
   "cell_type": "code",
   "execution_count": 27,
   "id": "cfadeb8c",
   "metadata": {},
   "outputs": [
    {
     "name": "stdout",
     "output_type": "stream",
     "text": [
      "RMSE for Random Forest: 0.7780929066818252\n"
     ]
    }
   ],
   "source": [
    "rmse_rf_reg = np.sqrt(mean_squared_error(y_test, pred_rf))\n",
    "print(\"RMSE for Random Forest:\", rmse_rf_reg)"
   ]
  },
  {
   "cell_type": "markdown",
   "id": "ebbe9923",
   "metadata": {},
   "source": [
    "# Utvärdera validering set"
   ]
  },
  {
   "cell_type": "code",
   "execution_count": null,
   "id": "d99a3d15",
   "metadata": {},
   "outputs": [],
   "source": [
    "lin_clf = LinearSVC(random_state=42)\n",
    "lin_clf.fit(X_train_scaled, y_train)"
   ]
  },
  {
   "cell_type": "code",
   "execution_count": 122,
   "id": "5bff255f",
   "metadata": {},
   "outputs": [
    {
     "name": "stdout",
     "output_type": "stream",
     "text": [
      "Noggranhet: 0.844\n"
     ]
    }
   ],
   "source": [
    "y_pred_linear = lin_clf.predict(X_val_scaled)\n",
    "print(\"Noggranhet:\",accuracy_score(y_val, y_pred_linear))"
   ]
  },
  {
   "cell_type": "code",
   "execution_count": 123,
   "id": "397224b9",
   "metadata": {},
   "outputs": [
    {
     "data": {
      "image/png": "[encoded data removed]",
      "text/plain": [
       "<Figure size 640x480 with 2 Axes>"
      ]
     },
     "metadata": {},
     "output_type": "display_data"
    }
   ],
   "source": [
    "display_confusion_matrix(y_val, y_pred_linear)"
   ]
  },
  {
   "cell_type": "markdown",
   "id": "18e49aa4",
   "metadata": {},
   "source": [
    "# Gridsearch"
   ]
  },
  {
   "cell_type": "code",
   "execution_count": 105,
   "id": "f1c80899",
   "metadata": {},
   "outputs": [],
   "source": [
    "svm_clf = SVC()"
   ]
  },
  {
   "cell_type": "code",
   "execution_count": 106,
   "id": "458c597d",
   "metadata": {},
   "outputs": [],
   "source": [
    "param_grid = {'C': [0.1, 1, 10], 'gamma': [0.1, 1, 10], 'kernel': ['rbf', 'linear']}\n",
    "grid_search = GridSearchCV(svm_clf, param_grid, cv=3)\n",
    "grid_search.fit(X_train, y_train)"
   ]
  },
  {
   "cell_type": "code",
   "execution_count": 108,
   "id": "f489bf5f",
   "metadata": {},
   "outputs": [
    {
     "name": "stdout",
     "output_type": "stream",
     "text": [
      "Utvald parametrn: {'C': 0.1, 'gamma': 0.1, 'kernel': 'linear'}\n",
      "cross-validation score: 0.9066004326145576\n",
      "estimator: SVC(C=0.1, gamma=0.1, kernel='linear')\n"
     ]
    }
   ],
   "source": [
    "print(\"Utvald parametrn:\", grid_search.best_params_)\n",
    "print(\"cross-validation score:\", grid_search.best_score_)\n",
    "print(\"estimator:\", grid_search.best_estimator_)"
   ]
  },
  {
   "cell_type": "code",
   "execution_count": 109,
   "id": "02d47d47",
   "metadata": {},
   "outputs": [
    {
     "data": {
      "text/html": [
       "<div>\n",
       "<style scoped>\n",
       "    .dataframe tbody tr th:only-of-type {\n",
       "        vertical-align: middle;\n",
       "    }\n",
       "\n",
       "    .dataframe tbody tr th {\n",
       "        vertical-align: top;\n",
       "    }\n",
       "\n",
       "    .dataframe thead th {\n",
       "        text-align: right;\n",
       "    }\n",
       "</style>\n",
       "<table border=\"1\" class=\"dataframe\">\n",
       "  <thead>\n",
       "    <tr style=\"text-align: right;\">\n",
       "      <th></th>\n",
       "      <th>mean_fit_time</th>\n",
       "      <th>std_fit_time</th>\n",
       "      <th>mean_score_time</th>\n",
       "      <th>std_score_time</th>\n",
       "      <th>param_C</th>\n",
       "      <th>param_gamma</th>\n",
       "      <th>param_kernel</th>\n",
       "      <th>params</th>\n",
       "      <th>split0_test_score</th>\n",
       "      <th>split1_test_score</th>\n",
       "      <th>split2_test_score</th>\n",
       "      <th>mean_test_score</th>\n",
       "      <th>std_test_score</th>\n",
       "      <th>rank_test_score</th>\n",
       "    </tr>\n",
       "  </thead>\n",
       "  <tbody>\n",
       "    <tr>\n",
       "      <th>0</th>\n",
       "      <td>11.552792</td>\n",
       "      <td>0.156096</td>\n",
       "      <td>4.912414</td>\n",
       "      <td>0.600224</td>\n",
       "      <td>0.5</td>\n",
       "      <td>1</td>\n",
       "      <td>rbf</td>\n",
       "      <td>{'C': 0.5, 'gamma': 1, 'kernel': 'rbf'}</td>\n",
       "      <td>0.112777</td>\n",
       "      <td>0.112178</td>\n",
       "      <td>0.112845</td>\n",
       "      <td>0.112600</td>\n",
       "      <td>0.000300</td>\n",
       "      <td>7</td>\n",
       "    </tr>\n",
       "    <tr>\n",
       "      <th>1</th>\n",
       "      <td>4.859379</td>\n",
       "      <td>0.935955</td>\n",
       "      <td>1.370592</td>\n",
       "      <td>0.117268</td>\n",
       "      <td>0.5</td>\n",
       "      <td>1</td>\n",
       "      <td>poly</td>\n",
       "      <td>{'C': 0.5, 'gamma': 1, 'kernel': 'poly'}</td>\n",
       "      <td>0.910618</td>\n",
       "      <td>0.943011</td>\n",
       "      <td>0.933373</td>\n",
       "      <td>0.929001</td>\n",
       "      <td>0.013581</td>\n",
       "      <td>1</td>\n",
       "    </tr>\n",
       "    <tr>\n",
       "      <th>2</th>\n",
       "      <td>9.956006</td>\n",
       "      <td>0.368401</td>\n",
       "      <td>3.986330</td>\n",
       "      <td>0.009406</td>\n",
       "      <td>0.5</td>\n",
       "      <td>2</td>\n",
       "      <td>rbf</td>\n",
       "      <td>{'C': 0.5, 'gamma': 2, 'kernel': 'rbf'}</td>\n",
       "      <td>0.112777</td>\n",
       "      <td>0.112178</td>\n",
       "      <td>0.112845</td>\n",
       "      <td>0.112600</td>\n",
       "      <td>0.000300</td>\n",
       "      <td>7</td>\n",
       "    </tr>\n",
       "    <tr>\n",
       "      <th>3</th>\n",
       "      <td>4.342746</td>\n",
       "      <td>0.541577</td>\n",
       "      <td>1.463194</td>\n",
       "      <td>0.302193</td>\n",
       "      <td>0.5</td>\n",
       "      <td>2</td>\n",
       "      <td>poly</td>\n",
       "      <td>{'C': 0.5, 'gamma': 2, 'kernel': 'poly'}</td>\n",
       "      <td>0.910618</td>\n",
       "      <td>0.943011</td>\n",
       "      <td>0.933373</td>\n",
       "      <td>0.929001</td>\n",
       "      <td>0.013581</td>\n",
       "      <td>1</td>\n",
       "    </tr>\n",
       "    <tr>\n",
       "      <th>4</th>\n",
       "      <td>9.949883</td>\n",
       "      <td>0.072010</td>\n",
       "      <td>4.081072</td>\n",
       "      <td>0.127218</td>\n",
       "      <td>1</td>\n",
       "      <td>1</td>\n",
       "      <td>rbf</td>\n",
       "      <td>{'C': 1, 'gamma': 1, 'kernel': 'rbf'}</td>\n",
       "      <td>0.112777</td>\n",
       "      <td>0.112178</td>\n",
       "      <td>0.112845</td>\n",
       "      <td>0.112600</td>\n",
       "      <td>0.000300</td>\n",
       "      <td>7</td>\n",
       "    </tr>\n",
       "    <tr>\n",
       "      <th>5</th>\n",
       "      <td>4.379178</td>\n",
       "      <td>0.529334</td>\n",
       "      <td>1.468405</td>\n",
       "      <td>0.309289</td>\n",
       "      <td>1</td>\n",
       "      <td>1</td>\n",
       "      <td>poly</td>\n",
       "      <td>{'C': 1, 'gamma': 1, 'kernel': 'poly'}</td>\n",
       "      <td>0.910618</td>\n",
       "      <td>0.943011</td>\n",
       "      <td>0.933373</td>\n",
       "      <td>0.929001</td>\n",
       "      <td>0.013581</td>\n",
       "      <td>1</td>\n",
       "    </tr>\n",
       "    <tr>\n",
       "      <th>6</th>\n",
       "      <td>9.601908</td>\n",
       "      <td>0.596389</td>\n",
       "      <td>4.428746</td>\n",
       "      <td>0.229226</td>\n",
       "      <td>1</td>\n",
       "      <td>2</td>\n",
       "      <td>rbf</td>\n",
       "      <td>{'C': 1, 'gamma': 2, 'kernel': 'rbf'}</td>\n",
       "      <td>0.112777</td>\n",
       "      <td>0.112178</td>\n",
       "      <td>0.112845</td>\n",
       "      <td>0.112600</td>\n",
       "      <td>0.000300</td>\n",
       "      <td>7</td>\n",
       "    </tr>\n",
       "    <tr>\n",
       "      <th>7</th>\n",
       "      <td>4.300245</td>\n",
       "      <td>0.373008</td>\n",
       "      <td>1.478800</td>\n",
       "      <td>0.229005</td>\n",
       "      <td>1</td>\n",
       "      <td>2</td>\n",
       "      <td>poly</td>\n",
       "      <td>{'C': 1, 'gamma': 2, 'kernel': 'poly'}</td>\n",
       "      <td>0.910618</td>\n",
       "      <td>0.943011</td>\n",
       "      <td>0.933373</td>\n",
       "      <td>0.929001</td>\n",
       "      <td>0.013581</td>\n",
       "      <td>1</td>\n",
       "    </tr>\n",
       "    <tr>\n",
       "      <th>8</th>\n",
       "      <td>9.581093</td>\n",
       "      <td>0.362620</td>\n",
       "      <td>4.179524</td>\n",
       "      <td>0.177489</td>\n",
       "      <td>1.5</td>\n",
       "      <td>1</td>\n",
       "      <td>rbf</td>\n",
       "      <td>{'C': 1.5, 'gamma': 1, 'kernel': 'rbf'}</td>\n",
       "      <td>0.112777</td>\n",
       "      <td>0.112178</td>\n",
       "      <td>0.112845</td>\n",
       "      <td>0.112600</td>\n",
       "      <td>0.000300</td>\n",
       "      <td>7</td>\n",
       "    </tr>\n",
       "    <tr>\n",
       "      <th>9</th>\n",
       "      <td>4.412319</td>\n",
       "      <td>0.130108</td>\n",
       "      <td>1.379894</td>\n",
       "      <td>0.162499</td>\n",
       "      <td>1.5</td>\n",
       "      <td>1</td>\n",
       "      <td>poly</td>\n",
       "      <td>{'C': 1.5, 'gamma': 1, 'kernel': 'poly'}</td>\n",
       "      <td>0.910618</td>\n",
       "      <td>0.943011</td>\n",
       "      <td>0.933373</td>\n",
       "      <td>0.929001</td>\n",
       "      <td>0.013581</td>\n",
       "      <td>1</td>\n",
       "    </tr>\n",
       "    <tr>\n",
       "      <th>10</th>\n",
       "      <td>10.502741</td>\n",
       "      <td>0.460621</td>\n",
       "      <td>4.029989</td>\n",
       "      <td>0.077775</td>\n",
       "      <td>1.5</td>\n",
       "      <td>2</td>\n",
       "      <td>rbf</td>\n",
       "      <td>{'C': 1.5, 'gamma': 2, 'kernel': 'rbf'}</td>\n",
       "      <td>0.112777</td>\n",
       "      <td>0.112178</td>\n",
       "      <td>0.112845</td>\n",
       "      <td>0.112600</td>\n",
       "      <td>0.000300</td>\n",
       "      <td>7</td>\n",
       "    </tr>\n",
       "    <tr>\n",
       "      <th>11</th>\n",
       "      <td>4.403975</td>\n",
       "      <td>0.652486</td>\n",
       "      <td>1.311255</td>\n",
       "      <td>0.087997</td>\n",
       "      <td>1.5</td>\n",
       "      <td>2</td>\n",
       "      <td>poly</td>\n",
       "      <td>{'C': 1.5, 'gamma': 2, 'kernel': 'poly'}</td>\n",
       "      <td>0.910618</td>\n",
       "      <td>0.943011</td>\n",
       "      <td>0.933373</td>\n",
       "      <td>0.929001</td>\n",
       "      <td>0.013581</td>\n",
       "      <td>1</td>\n",
       "    </tr>\n",
       "  </tbody>\n",
       "</table>\n",
       "</div>"
      ],
      "text/plain": [
       "    mean_fit_time  std_fit_time  mean_score_time  std_score_time param_C  \\\n",
       "0       11.552792      0.156096         4.912414        0.600224     0.5   \n",
       "1        4.859379      0.935955         1.370592        0.117268     0.5   \n",
       "2        9.956006      0.368401         3.986330        0.009406     0.5   \n",
       "3        4.342746      0.541577         1.463194        0.302193     0.5   \n",
       "4        9.949883      0.072010         4.081072        0.127218       1   \n",
       "5        4.379178      0.529334         1.468405        0.309289       1   \n",
       "6        9.601908      0.596389         4.428746        0.229226       1   \n",
       "7        4.300245      0.373008         1.478800        0.229005       1   \n",
       "8        9.581093      0.362620         4.179524        0.177489     1.5   \n",
       "9        4.412319      0.130108         1.379894        0.162499     1.5   \n",
       "10      10.502741      0.460621         4.029989        0.077775     1.5   \n",
       "11       4.403975      0.652486         1.311255        0.087997     1.5   \n",
       "\n",
       "   param_gamma param_kernel                                    params  \\\n",
       "0            1          rbf   {'C': 0.5, 'gamma': 1, 'kernel': 'rbf'}   \n",
       "1            1         poly  {'C': 0.5, 'gamma': 1, 'kernel': 'poly'}   \n",
       "2            2          rbf   {'C': 0.5, 'gamma': 2, 'kernel': 'rbf'}   \n",
       "3            2         poly  {'C': 0.5, 'gamma': 2, 'kernel': 'poly'}   \n",
       "4            1          rbf     {'C': 1, 'gamma': 1, 'kernel': 'rbf'}   \n",
       "5            1         poly    {'C': 1, 'gamma': 1, 'kernel': 'poly'}   \n",
       "6            2          rbf     {'C': 1, 'gamma': 2, 'kernel': 'rbf'}   \n",
       "7            2         poly    {'C': 1, 'gamma': 2, 'kernel': 'poly'}   \n",
       "8            1          rbf   {'C': 1.5, 'gamma': 1, 'kernel': 'rbf'}   \n",
       "9            1         poly  {'C': 1.5, 'gamma': 1, 'kernel': 'poly'}   \n",
       "10           2          rbf   {'C': 1.5, 'gamma': 2, 'kernel': 'rbf'}   \n",
       "11           2         poly  {'C': 1.5, 'gamma': 2, 'kernel': 'poly'}   \n",
       "\n",
       "    split0_test_score  split1_test_score  split2_test_score  mean_test_score  \\\n",
       "0            0.112777           0.112178           0.112845         0.112600   \n",
       "1            0.910618           0.943011           0.933373         0.929001   \n",
       "2            0.112777           0.112178           0.112845         0.112600   \n",
       "3            0.910618           0.943011           0.933373         0.929001   \n",
       "4            0.112777           0.112178           0.112845         0.112600   \n",
       "5            0.910618           0.943011           0.933373         0.929001   \n",
       "6            0.112777           0.112178           0.112845         0.112600   \n",
       "7            0.910618           0.943011           0.933373         0.929001   \n",
       "8            0.112777           0.112178           0.112845         0.112600   \n",
       "9            0.910618           0.943011           0.933373         0.929001   \n",
       "10           0.112777           0.112178           0.112845         0.112600   \n",
       "11           0.910618           0.943011           0.933373         0.929001   \n",
       "\n",
       "    std_test_score  rank_test_score  \n",
       "0         0.000300                7  \n",
       "1         0.013581                1  \n",
       "2         0.000300                7  \n",
       "3         0.013581                1  \n",
       "4         0.000300                7  \n",
       "5         0.013581                1  \n",
       "6         0.000300                7  \n",
       "7         0.013581                1  \n",
       "8         0.000300                7  \n",
       "9         0.013581                1  \n",
       "10        0.000300                7  \n",
       "11        0.013581                1  "
      ]
     },
     "execution_count": 109,
     "metadata": {},
     "output_type": "execute_result"
    }
   ],
   "source": [
    "##I en tabell\n",
    "pd.DataFrame(gs_svm.cv_results_)"
   ]
  },
  {
   "cell_type": "code",
   "execution_count": 115,
   "id": "4553021e",
   "metadata": {},
   "outputs": [],
   "source": [
    "y_pred_gs_svm = gs_svm.predict(X_val_scaled)"
   ]
  },
  {
   "cell_type": "code",
   "execution_count": 118,
   "id": "12c9eab1",
   "metadata": {},
   "outputs": [
    {
     "name": "stdout",
     "output_type": "stream",
     "text": [
      "Noggranhet: 0.94\n"
     ]
    }
   ],
   "source": [
    "print(\"Noggranhet:\",accuracy_score(y_val, y_pred_gs_svm))"
   ]
  },
  {
   "cell_type": "code",
   "execution_count": 112,
   "id": "3a637eca",
   "metadata": {},
   "outputs": [
    {
     "data": {
      "image/png": "[encoded data removed]",
      "text/plain": [
       "<Figure size 640x480 with 2 Axes>"
      ]
     },
     "metadata": {},
     "output_type": "display_data"
    }
   ],
   "source": [
    "display_confusion_matrix(y_val, y_pred_gs_svm)"
   ]
  },
  {
   "cell_type": "markdown",
   "id": "f5799a0d",
   "metadata": {},
   "source": [
    "# Utvärdering av test data"
   ]
  },
  {
   "cell_type": "code",
   "execution_count": 119,
   "id": "22f67c6d",
   "metadata": {},
   "outputs": [],
   "source": [
    "y_pred_test = gs_svm.predict(X_test_scaled)"
   ]
  },
  {
   "cell_type": "code",
   "execution_count": 120,
   "id": "329b9068",
   "metadata": {},
   "outputs": [
    {
     "name": "stdout",
     "output_type": "stream",
     "text": [
      "Noggranhet: 0.939\n"
     ]
    }
   ],
   "source": [
    "print(\"Noggranhet:\", accuracy_score(y_test, y_pred_test))"
   ]
  },
  {
   "cell_type": "code",
   "execution_count": 121,
   "id": "12ceb002",
   "metadata": {},
   "outputs": [
    {
     "data": {
      "image/png": "[encoded data removed]",
      "text/plain": [
       "<Figure size 640x480 with 2 Axes>"
      ]
     },
     "metadata": {},
     "output_type": "display_data"
    }
   ],
   "source": [
    "display_confusion_matrix(y_test, y_pred_test)"
   ]
  },
  {
   "cell_type": "code",
   "execution_count": null,
   "id": "877111ad",
   "metadata": {},
   "outputs": [],
   "source": []
  },
  {
   "cell_type": "code",
   "execution_count": null,
   "id": "9deaf76f",
   "metadata": {},
   "outputs": [],
   "source": []
  },
  {
   "cell_type": "code",
   "execution_count": null,
   "id": "f25f9c8b",
   "metadata": {},
   "outputs": [],
   "source": []
  },
  {
   "cell_type": "code",
   "execution_count": null,
   "id": "6e86dc58",
   "metadata": {},
   "outputs": [],
   "source": []
  },
  {
   "cell_type": "code",
   "execution_count": null,
   "id": "26546eed",
   "metadata": {},
   "outputs": [],
   "source": []
  }
 ],
 "metadata": {
  "kernelspec": {
   "display_name": "Python 3 (ipykernel)",
   "language": "python",
   "name": "python3"
  },
  "language_info": {
   "codemirror_mode": {
    "name": "ipython",
    "version": 3
   },
   "file_extension": ".py",
   "mimetype": "text/x-python",
   "name": "python",
   "nbconvert_exporter": "python",
   "pygments_lexer": "ipython3",
   "version": "3.11.4"
  }
 },
 "nbformat": 4,
 "nbformat_minor": 5
}
